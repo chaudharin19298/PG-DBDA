{
 "cells": [
  {
   "cell_type": "markdown",
   "metadata": {},
   "source": [
    "# CLOSURES:\n",
    "**DEF ->** Closure is a function which rememebers the values in enclosing funtion even if they are not present in memory.<br>\n",
    "~~~~\n",
    "def outerFunction(text): \n",
    "    text = text \n",
    "  \n",
    "    def innerFunction(): \n",
    "        print(text) \n",
    "  \n",
    "    innerFunction() \n",
    "  \n",
    "if __name__ == '__main__': \n",
    "    outerFunction('Hey!') \n",
    "~~~~"
   ]
  },
  {
   "cell_type": "code",
   "execution_count": 4,
   "metadata": {},
   "outputs": [
    {
     "name": "stdout",
     "output_type": "stream",
     "text": [
      "Hey!\n"
     ]
    }
   ],
   "source": [
    "def outerFunction(text): \n",
    "    text = text \n",
    "  \n",
    "    def innerFunction(): \n",
    "        print(text) \n",
    "  \n",
    "    innerFunction() \n",
    "  \n",
    "if __name__ == '__main__': \n",
    "    outerFunction('Hey!') "
   ]
  },
  {
   "cell_type": "markdown",
   "metadata": {},
   "source": [
    "func() : is a function call <br>\n",
    "x=fun : is calling function object<br>"
   ]
  },
  {
   "cell_type": "code",
   "execution_count": 5,
   "metadata": {},
   "outputs": [
    {
     "name": "stdout",
     "output_type": "stream",
     "text": [
      "0x561ddbb71b40 0x561ddbb71b00\n",
      "68\n",
      "19\n",
      "(<cell at 0x7f553c312dc8: int object at 0x561ddbb71b00>, <cell at 0x7f553c312e58: int object at 0x561ddbb71b40>)\n",
      "25 125\n"
     ]
    }
   ],
   "source": [
    "def outer():\n",
    "    x=10\n",
    "    a=8\n",
    "    b=0\n",
    "    print(hex(id(x)),hex(id(a)))\n",
    "    def inner(y):\n",
    "        return x+y+a\n",
    "    print(inner(50))\n",
    "    return inner \n",
    "local_fun=outer()\n",
    "print(local_fun(1))\n",
    "print(local_fun.__closure__)\n",
    "\n",
    "def raise_to(exp):\n",
    "    def raise_to_exp(x):\n",
    "        return pow(x,exp)\n",
    "    return raise_to_exp\n",
    "\n",
    "square=raise_to(2)\n",
    "cube=raise_to(3)\n",
    "print(square(5),cube(5))"
   ]
  },
  {
   "cell_type": "markdown",
   "metadata": {},
   "source": [
    "# How to create a closure function ?\n",
    "\n",
    "**1. We must have a nested function**<br>\n",
    "**2. The nested function must refer to value defined in the enclosing function**<br>\n",
    "**3. Enclosing function must return the nested function.**<br>"
   ]
  },
  {
   "cell_type": "markdown",
   "metadata": {},
   "source": [
    "# OOPS"
   ]
  },
  {
   "cell_type": "code",
   "execution_count": 8,
   "metadata": {},
   "outputs": [
    {
     "name": "stdout",
     "output_type": "stream",
     "text": [
      "26.389378290154262\n"
     ]
    }
   ],
   "source": [
    "from math import pi\n",
    "\n",
    "def calc_area(radius):\n",
    "    return pi*radius**2\n",
    "def calc_circumference(radius):\n",
    "    return 2*pi*radius\n",
    "\n",
    "circle1_name='c1'\n",
    "circle1_radius=4.2\n",
    "\n",
    "circle1_circumference = calc_circumference(circle1_radius)\n",
    "print(circle1_circumference)"
   ]
  },
  {
   "cell_type": "code",
   "execution_count": 10,
   "metadata": {},
   "outputs": [
    {
     "name": "stdout",
     "output_type": "stream",
     "text": [
      "26.389378290154262\n"
     ]
    }
   ],
   "source": [
    "class Circle:\n",
    "    pass\n",
    "\n",
    "circle1=Circle()\n",
    "circle2=Circle()\n",
    "circle1.radius=4.2\n",
    "circle1.name='C1'\n",
    "\n",
    "print(calc_circumference(circle1.radius))"
   ]
  },
  {
   "cell_type": "code",
   "execution_count": 21,
   "metadata": {},
   "outputs": [
    {
     "name": "stdout",
     "output_type": "stream",
     "text": [
      "C1 0 C2 0\n",
      "[0.0, 0.0, 0.0, 0.0, 0.0, 0.0, 0.0, 0.0, 0.0, 0.0]\n"
     ]
    }
   ],
   "source": [
    "import random\n",
    "class Circle:\n",
    "    radius=0\n",
    "\n",
    "circle1=Circle()\n",
    "circle2=Circle()\n",
    "circle1.name='C1'\n",
    "circle2.name='C2'\n",
    "circle1.color=\"Blue\"\n",
    "print(circle1.name,circle1.radius,circle2.name,circle2.radius)\n",
    "\n",
    "circumference=[]\n",
    "for i in range(10):\n",
    "    circle=Circle()\n",
    "    circle.radius=random.uniform(1.1,5.1)\n",
    "    circumference.append(calc_circumference(circle2.radius))\n",
    "print(circumference)"
   ]
  },
  {
   "cell_type": "code",
   "execution_count": 61,
   "metadata": {},
   "outputs": [
    {
     "name": "stdout",
     "output_type": "stream",
     "text": [
      "C1 0 C2 0\n",
      "[24.77205253813475, 17.628028663921317, 10.66139609435244, 15.169274380530355, 20.388676273465666, 10.100340266281842, 24.34399310863442, 9.054070847899204, 27.89807629643812, 7.552367235545975]\n",
      "CPU times: user 250 µs, sys: 26 µs, total: 276 µs\n",
      "Wall time: 191 µs\n"
     ]
    }
   ],
   "source": [
    "%%time\n",
    "import random\n",
    "from math import pi\n",
    "class Circle:\n",
    "    radius=0\n",
    "    def calc_circumference(self):\n",
    "        return 2*pi*self.radius\n",
    "    def calc_area(self):\n",
    "        return pi*self.radius**2\n",
    "circle1=Circle()\n",
    "circle2=Circle()\n",
    "circle1.name='C1'\n",
    "circle2.name='C2'\n",
    "circle1.color=\"Blue\"\n",
    "print(circle1.name,circle1.radius,circle2.name,circle2.radius)\n",
    "\n",
    "circle=Circle()    \n",
    "circumference=[]\n",
    "for i in range(10):\n",
    "    circle.radius=random.uniform(1.1,5.1)\n",
    "    circumference.append(circle.calc_circumference())\n",
    "print(circumference)"
   ]
  },
  {
   "cell_type": "code",
   "execution_count": null,
   "metadata": {},
   "outputs": [],
   "source": []
  },
  {
   "cell_type": "markdown",
   "metadata": {},
   "source": [
    "## self\n",
    "1. self is a reference to calling object \n",
    "2. self is  always a first arguement of clas methods\n"
   ]
  },
  {
   "cell_type": "code",
   "execution_count": 63,
   "metadata": {},
   "outputs": [
    {
     "name": "stdout",
     "output_type": "stream",
     "text": [
      "4\n",
      "4\n",
      "5\n"
     ]
    }
   ],
   "source": [
    "class Car:\n",
    "    wheels=4\n",
    "    steering_type='Manual'\n",
    "audi=Car()\n",
    "merc=Car()\n",
    "\n",
    "print(audi.wheels)\n",
    "\n",
    "print(merc.wheels)\n",
    "merc.wheels=5\n",
    "print(merc.wheels)"
   ]
  },
  {
   "cell_type": "code",
   "execution_count": 68,
   "metadata": {},
   "outputs": [
    {
     "name": "stdout",
     "output_type": "stream",
     "text": [
      "4\n",
      "4\n",
      "5\n",
      "4\n",
      "Car is moving in left direction\n",
      "left\n"
     ]
    }
   ],
   "source": [
    "class Car:\n",
    "    wheels=4\n",
    "    steering_type='Manual'\n",
    "    def move_steering(self,direction):\n",
    "        self.direction=direction\n",
    "        print('Car is moving in {} direction'.format(direction))\n",
    "        \n",
    "audi=Car()\n",
    "merc=Car()\n",
    "\n",
    "print(audi.wheels)\n",
    "\n",
    "print(merc.wheels)\n",
    "merc.wheels=5\n",
    "print(merc.wheels)\n",
    "nano=Car()\n",
    "print(nano.wheels)\n",
    "nano.move_steering('left')\n",
    "print(nano.direction)"
   ]
  },
  {
   "cell_type": "code",
   "execution_count": 81,
   "metadata": {},
   "outputs": [
    {
     "name": "stdout",
     "output_type": "stream",
     "text": [
      "0\n",
      "IT\n",
      "0\n",
      "Test\n"
     ]
    }
   ],
   "source": [
    "class Employee:\n",
    "    emp_id=0\n",
    "    designation='IT'\n",
    "    def set_designation(self,designation):\n",
    "        #designation='Test'\n",
    "        self.designation=designation\n",
    "        \n",
    "\n",
    "if __name__=='__main__':\n",
    "    emp1=Employee()\n",
    "    print(emp1.emp_id)\n",
    "    print(emp1.designation)\n",
    "    emp1.set_designation('Manager')\n",
    "    print(emp1.emp_id)\n",
    "    print(emp1.designation)"
   ]
  },
  {
   "cell_type": "code",
   "execution_count": 101,
   "metadata": {},
   "outputs": [
    {
     "name": "stdout",
     "output_type": "stream",
     "text": [
      "454\n",
      "Manager\n",
      "Aakash\n"
     ]
    }
   ],
   "source": [
    "class Employee:\n",
    "    emp_id=0\n",
    "    #designation='IT'\n",
    "    def __init__(self,name):\n",
    "        self.emp_id=random.randint(100,1000)\n",
    "        self.name=name\n",
    "    def set_designation(self,designation):\n",
    "        #designation='Test'\n",
    "        self.designation=designation\n",
    "        \n",
    "\n",
    "if __name__=='__main__':\n",
    "    emp1=Employee('Aakash')\n",
    "    #print(emp1.emp_id)\n",
    "    #print(emp1.designation)\n",
    "    emp1.set_designation('Manager')\n",
    "    print(emp1.emp_id)\n",
    "    print(emp1.designation)\n",
    "    print(emp1.name)"
   ]
  }
 ],
 "metadata": {
  "kernelspec": {
   "display_name": "Python 3",
   "language": "python",
   "name": "python3"
  },
  "language_info": {
   "codemirror_mode": {
    "name": "ipython",
    "version": 3
   },
   "file_extension": ".py",
   "mimetype": "text/x-python",
   "name": "python",
   "nbconvert_exporter": "python",
   "pygments_lexer": "ipython3",
   "version": "3.6.5"
  }
 },
 "nbformat": 4,
 "nbformat_minor": 2
}
